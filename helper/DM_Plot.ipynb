{
 "cells": [
  {
   "cell_type": "code",
   "execution_count": 139,
   "id": "d0e43fa7",
   "metadata": {},
   "outputs": [],
   "source": [
    "import numpy as np\n",
    "import matplotlib.pyplot as plt\n",
    "import csv"
   ]
  },
  {
   "cell_type": "code",
   "execution_count": 140,
   "metadata": {},
   "outputs": [],
   "source": [
    "offset = 0.5"
   ]
  },
  {
   "cell_type": "code",
   "execution_count": 141,
   "metadata": {},
   "outputs": [],
   "source": [
    "DM_filename = input(\"Enter DM file name (excluding .csv extension): \")\n",
    "DM_filename = DM_filename + '.csv'"
   ]
  },
  {
   "cell_type": "code",
   "execution_count": 142,
   "id": "a4a76ef7",
   "metadata": {},
   "outputs": [
    {
     "name": "stdout",
     "output_type": "stream",
     "text": [
      "[0.5, 0.5, 0.5, 0.5, 0.5, 0.5, 0.5, 0.5, 0.5, 1.5, 1.5, 1.5, 1.5, 1.5, 1.5, 1.5, 1.5, 1.5, 2.5, 2.5, 2.5, 2.5, 2.5, 2.5, 2.5, 2.5, 2.5, 3.5, 3.5, 3.5, 3.5, 3.5, 3.5, 3.5, 3.5, 3.5, 4.5, 4.5, 4.5, 4.5, 4.5, 4.5, 4.5, 4.5, 4.5, 5.5, 5.5, 5.5, 5.5, 5.5, 5.5, 5.5, 5.5, 5.5, 6.5, 6.5, 6.5, 6.5, 6.5, 6.5, 6.5, 6.5, 6.5, 7.5, 7.5, 7.5, 7.5, 7.5, 7.5, 7.5, 7.5, 7.5, 8.5, 8.5, 8.5, 8.5, 8.5, 8.5, 8.5, 8.5, 8.5]\n",
      "[0.5, 1.5, 2.5, 3.5, 4.5, 5.5, 6.5, 7.5, 8.5, 0.5, 1.5, 2.5, 3.5, 4.5, 5.5, 6.5, 7.5, 8.5, 0.5, 1.5, 2.5, 3.5, 4.5, 5.5, 6.5, 7.5, 8.5, 0.5, 1.5, 2.5, 3.5, 4.5, 5.5, 6.5, 7.5, 8.5, 0.5, 1.5, 2.5, 3.5, 4.5, 5.5, 6.5, 7.5, 8.5, 0.5, 1.5, 2.5, 3.5, 4.5, 5.5, 6.5, 7.5, 8.5, 0.5, 1.5, 2.5, 3.5, 4.5, 5.5, 6.5, 7.5, 8.5, 0.5, 1.5, 2.5, 3.5, 4.5, 5.5, 6.5, 7.5, 8.5, 0.5, 1.5, 2.5, 3.5, 4.5, 5.5, 6.5, 7.5, 8.5]\n"
     ]
    }
   ],
   "source": [
    "# reading the direction map\n",
    "with open(DM_filename, 'r') as f:\n",
    "    reader = csv.reader(f)\n",
    "    data = list(reader)\n",
    "\n",
    "#remove header\n",
    "data.pop(0)\n",
    "\n",
    "rows = int(data[0][0])\n",
    "cols = int(data[0][1])\n",
    "data.pop(0)\n",
    "\n",
    "#extracting the first row\n",
    "u = []\n",
    "v = []\n",
    "for i in range(len(data)):\n",
    "    u.append(float(data[i][0]))\n",
    "    v.append(float(data[i][1]))\n",
    "\n",
    "x = []\n",
    "y = []\n",
    "for i in range(rows):\n",
    "    for j in range(cols):\n",
    "        x.append(i+offset)\n",
    "        y.append(j+offset)\n",
    "\n",
    "print(x)\n",
    "print(y)"
   ]
  },
  {
   "cell_type": "code",
   "execution_count": 143,
   "metadata": {},
   "outputs": [],
   "source": [
    "terrain_filename = input(\"Enter terrain file name (excluding .csv extension): \")\n",
    "terrain_filename = terrain_filename + '.csv'"
   ]
  },
  {
   "cell_type": "code",
   "execution_count": 144,
   "metadata": {},
   "outputs": [],
   "source": [
    "\n",
    "with open(terrain_filename, 'r') as f:\n",
    "    reader = csv.reader(f)\n",
    "    terrain = list(reader)\n",
    "\n",
    "obstacles = []\n",
    "\n",
    "for i in range(len(terrain)):\n",
    "    for j in range(len(terrain[0]) - 1):\n",
    "        if float(terrain[i][j]) == 1000000000:\n",
    "            obstacles.append((i, j))\n",
    "\n",
    "obstacles_x = []\n",
    "obstacles_y = []\n",
    "\n",
    "for i in obstacles:\n",
    "    obstacles_x.append(i[0] + offset)\n",
    "    obstacles_y.append(i[1] + offset)\n",
    "    u[i[0]*cols + i[1]] = 0\n",
    "    v[i[0]*cols + i[1]] = 0"
   ]
  },
  {
   "cell_type": "code",
   "execution_count": 145,
   "id": "6a2c63e0",
   "metadata": {},
   "outputs": [
    {
     "data": {
      "image/png": "[encoded data removed]",
      "text/plain": [
       "<Figure size 720x720 with 1 Axes>"
      ]
     },
     "metadata": {
      "needs_background": "light"
     },
     "output_type": "display_data"
    }
   ],
   "source": [
    "# plt.quiver(x, y, u, v, scale_units='inches', scale=1.5)\n",
    "\n",
    "#increase the size of plot as number of rows/cols increase\n",
    "plt.figure(figsize=(rows+1, cols+1))\n",
    "# fig, ax = plt.subplots()\n",
    "\n",
    "# adding black boxes in the plot in cells where obstacles are present\n",
    "for i in range(len(obstacles)):\n",
    "    plt.plot(obstacles_x[i], obstacles_y[i], 'ks')\n",
    "\n",
    "\n",
    "plt.quiver(x, y, u, v, angles='xy', scale_units='xy', scale=2)\n",
    "plt.title(\"Direction Map\")\n",
    "plt.xticks(np.arange(0, rows+1, 1))\n",
    "plt.yticks(np.arange(0, cols+1, 1))\n",
    "plt.grid(which='both', axis='both', linewidth=2)\n",
    "\n",
    "plt.savefig('DM_Plot3.png', dpi=300, bbox_inches='tight')\n"
   ]
  }
 ],
 "metadata": {
  "kernelspec": {
   "display_name": "Python 3 (ipykernel)",
   "language": "python",
   "name": "python3"
  },
  "language_info": {
   "codemirror_mode": {
    "name": "ipython",
    "version": 3
   },
   "file_extension": ".py",
   "mimetype": "text/x-python",
   "name": "python",
   "nbconvert_exporter": "python",
   "pygments_lexer": "ipython3",
   "version": "3.10.2"
  }
 },
 "nbformat": 4,
 "nbformat_minor": 5
}
